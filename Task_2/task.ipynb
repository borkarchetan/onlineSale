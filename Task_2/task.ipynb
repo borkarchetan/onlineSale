{
 "cells": [
  {
   "cell_type": "code",
   "execution_count": 1,
   "metadata": {},
   "outputs": [
    {
     "ename": "ModuleNotFoundError",
     "evalue": "No module named 'pandas'",
     "output_type": "error",
     "traceback": [
      "\u001b[1;31m---------------------------------------------------------------------------\u001b[0m",
      "\u001b[1;31mModuleNotFoundError\u001b[0m                       Traceback (most recent call last)",
      "Cell \u001b[1;32mIn[1], line 1\u001b[0m\n\u001b[1;32m----> 1\u001b[0m \u001b[39mimport\u001b[39;00m \u001b[39mpandas\u001b[39;00m \u001b[39mas\u001b[39;00m \u001b[39mpd\u001b[39;00m\n\u001b[0;32m      3\u001b[0m \u001b[39m# Here the List of worksheet for the names in the Excel file(CSV file)\u001b[39;00m\n\u001b[0;32m      4\u001b[0m worksheets \u001b[39m=\u001b[39m [\u001b[39m'\u001b[39m\u001b[39mDepartments\u001b[39m\u001b[39m'\u001b[39m, \u001b[39m'\u001b[39m\u001b[39mEmployees\u001b[39m\u001b[39m'\u001b[39m, \u001b[39m'\u001b[39m\u001b[39mSalaries\u001b[39m\u001b[39m'\u001b[39m]\n",
      "\u001b[1;31mModuleNotFoundError\u001b[0m: No module named 'pandas'"
     ]
    }
   ],
   "source": [
    "import pandas as pd\n",
    "\n",
    "# Here the List of worksheet for the names in the Excel file(CSV file)\n",
    "worksheets = ['Departments', 'Employees', 'Salaries']\n",
    "\n",
    "# Here Empty DataFrame to store the combined data\n",
    "combined_data = pd.DataFrame()\n",
    "\n",
    "\n",
    "for sheet_name in worksheets:\n",
    "    # for Read the CSV file corresponding to the worksheet...\n",
    "    csv_file = sheet_name + '.csv'\n",
    "    df = pd.read_csv(csv_file)\n",
    "    \n",
    "    # Now Append the data to the combined_data DataFrame\n",
    "    combined_data = combined_data.append(df, ignore_index=True)\n",
    "\n",
    "# and Calculate average monthly salary by department...\n",
    "avg_salary = combined_data.groupby('Department')['Salary'].mean()\n",
    "\n",
    "# Sort the departments by average salary in descending order\n",
    "sorted_departments = avg_salary.sort_values(ascending=False)\n",
    "\n",
    "# Here Get the top 3 departments...\n",
    "top_departments = sorted_departments.head(3)\n",
    "\n",
    "# Generate the report for top 3 departments\n",
    "report = combined_data[combined_data['Department'].isin(top_departments.index)][['Department', 'Name', 'Salary']]\n",
    "\n",
    "# Print the report\n",
    "print(\"Top 3 Departments:\")\n",
    "print(report)"
   ]
  }
 ],
 "metadata": {
  "kernelspec": {
   "display_name": "Python 3",
   "language": "python",
   "name": "python3"
  },
  "language_info": {
   "codemirror_mode": {
    "name": "ipython",
    "version": 3
   },
   "file_extension": ".py",
   "mimetype": "text/x-python",
   "name": "python",
   "nbconvert_exporter": "python",
   "pygments_lexer": "ipython3",
   "version": "3.11.3"
  },
  "orig_nbformat": 4
 },
 "nbformat": 4,
 "nbformat_minor": 2
}
